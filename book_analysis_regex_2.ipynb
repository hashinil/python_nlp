{
 "cells": [
  {
   "cell_type": "markdown",
   "id": "179e8468-e081-4485-bb0b-d87ec6cecd9f",
   "metadata": {},
   "source": [
    "# Load the book"
   ]
  },
  {
   "cell_type": "code",
   "execution_count": 1,
   "id": "45c567b8-888b-4ede-ae14-3b1563a597b7",
   "metadata": {
    "tags": []
   },
   "outputs": [],
   "source": [
    "with open(\"miracle_in_the_andes.txt\", \"r\", encoding=\"utf8\") as file:\n",
    "    book = file.read()"
   ]
  },
  {
   "cell_type": "markdown",
   "id": "3c176f14-9587-4a68-9734-3cc8651c46d2",
   "metadata": {},
   "source": [
    "# Extract the paragraphs where \"Love\" was used"
   ]
  },
  {
   "cell_type": "code",
   "execution_count": 2,
   "id": "d1733443-8d9d-45ec-a67d-de3f2346b292",
   "metadata": {
    "tags": []
   },
   "outputs": [],
   "source": [
    "import re"
   ]
  },
  {
   "cell_type": "code",
   "execution_count": 3,
   "id": "e9fe75a9-31fb-417e-9a7c-c6b0e9ba2f1c",
   "metadata": {
    "tags": []
   },
   "outputs": [
    {
     "data": {
      "text/plain": [
       "114"
      ]
     },
     "execution_count": 3,
     "metadata": {},
     "output_type": "execute_result"
    }
   ],
   "source": [
    "pattern = re.compile(\"love\")\n",
    "findings = re.findall(pattern, book)  \n",
    "len(findings)"
   ]
  },
  {
   "cell_type": "code",
   "execution_count": 44,
   "id": "7be518bc-a558-4631-b005-fd1e8d1e6591",
   "metadata": {
    "tags": []
   },
   "outputs": [
    {
     "data": {
      "text/plain": [
       "60"
      ]
     },
     "execution_count": 44,
     "metadata": {},
     "output_type": "execute_result"
    }
   ],
   "source": [
    "pattern = re.compile(\"[^\\n]+love[^\\n]+\")\n",
    "findings = re.findall(pattern, book)  \n",
    "len(findings)"
   ]
  },
  {
   "cell_type": "markdown",
   "id": "3a6ce435-3a67-4121-9921-04cf9d925386",
   "metadata": {},
   "source": [
    "# Extract the Chapter Titles"
   ]
  },
  {
   "cell_type": "code",
   "execution_count": 5,
   "id": "efcc88e0-ffb9-4cc8-ae5c-f35c3209f2f6",
   "metadata": {
    "tags": []
   },
   "outputs": [
    {
     "data": {
      "text/plain": [
       "['Chapter 1',\n",
       " 'Chapter 2',\n",
       " 'Chapter 3',\n",
       " 'Chapter 4',\n",
       " 'Chapter 5',\n",
       " 'Chapter 6',\n",
       " 'Chapter 7',\n",
       " 'Chapter 8',\n",
       " 'Chapter 9',\n",
       " 'Chapter 10']"
      ]
     },
     "execution_count": 5,
     "metadata": {},
     "output_type": "execute_result"
    }
   ],
   "source": [
    "pattern = re.compile(\"Chapter [0-9]+\")\n",
    "findings = re.findall(pattern, book)  \n",
    "findings"
   ]
  },
  {
   "cell_type": "code",
   "execution_count": 48,
   "id": "984b70ff-512f-4fa3-a56b-c77f989451c1",
   "metadata": {
    "tags": []
   },
   "outputs": [
    {
     "data": {
      "text/plain": [
       "['Before\\n\\n',\n",
       " 'Everything Precious\\n\\n',\n",
       " 'A Promise\\n\\n',\n",
       " 'Breathe Once More\\n\\n',\n",
       " 'Abandoned\\n\\n',\n",
       " 'Tomb\\n\\n',\n",
       " 'East\\n\\n',\n",
       " 'The Opposite of Death\\n\\n',\n",
       " 'I See a Man\\n\\n',\n",
       " 'After\\n\\n']"
      ]
     },
     "execution_count": 48,
     "metadata": {},
     "output_type": "execute_result"
    }
   ],
   "source": [
    "pattern = re.compile(\"[a-zA-Z ]+\\n\\n\")\n",
    "findings = re.findall(pattern, book)  \n",
    "findings"
   ]
  },
  {
   "cell_type": "code",
   "execution_count": 51,
   "id": "f59af272-d469-4560-bd57-412f9f311b30",
   "metadata": {
    "tags": []
   },
   "outputs": [
    {
     "data": {
      "text/plain": [
       "['Before',\n",
       " 'Everything Precious',\n",
       " 'A Promise',\n",
       " 'Breathe Once More',\n",
       " 'Abandoned',\n",
       " 'Tomb',\n",
       " 'East',\n",
       " 'The Opposite of Death',\n",
       " 'I See a Man',\n",
       " 'After']"
      ]
     },
     "execution_count": 51,
     "metadata": {},
     "output_type": "execute_result"
    }
   ],
   "source": [
    "findings = [item.strip(\"\\n\\n\") for item in findings]\n",
    "findings"
   ]
  },
  {
   "cell_type": "code",
   "execution_count": 52,
   "id": "5c3d0bcc-eb61-4aea-95ed-5458c5a7c03d",
   "metadata": {
    "tags": []
   },
   "outputs": [
    {
     "data": {
      "text/plain": [
       "['Before',\n",
       " 'Everything Precious',\n",
       " 'A Promise',\n",
       " 'Breathe Once More',\n",
       " 'Abandoned',\n",
       " 'Tomb',\n",
       " 'East',\n",
       " 'The Opposite of Death',\n",
       " 'I See a Man',\n",
       " 'After']"
      ]
     },
     "execution_count": 52,
     "metadata": {},
     "output_type": "execute_result"
    }
   ],
   "source": [
    "pattern = re.compile(\"([a-zA-Z ]+)\\n\\n\")\n",
    "findings = re.findall(pattern, book)  \n",
    "findings"
   ]
  },
  {
   "cell_type": "markdown",
   "id": "125b327a-c709-43de-a35c-f583707fec25",
   "metadata": {},
   "source": [
    "# Function that find the occurance of word"
   ]
  },
  {
   "cell_type": "code",
   "execution_count": 53,
   "id": "0e5cfa43-7937-48f9-8bb9-814975d36a42",
   "metadata": {
    "tags": []
   },
   "outputs": [
    {
     "data": {
      "text/plain": [
       "['chapter', 'before', 'it', 'was', 'friday']"
      ]
     },
     "execution_count": 53,
     "metadata": {},
     "output_type": "execute_result"
    }
   ],
   "source": [
    "pattern = re.compile(\"[a-zA-Z]+\")\n",
    "findings = re.findall(pattern, book.lower())  \n",
    "findings[:5]"
   ]
  },
  {
   "cell_type": "code",
   "execution_count": 54,
   "id": "c2c8e9c2-2fc1-4ae0-97ae-93c96268ba55",
   "metadata": {
    "tags": []
   },
   "outputs": [],
   "source": [
    "words = {}\n",
    "for word in findings:\n",
    "    if word in words.keys():\n",
    "        words[word] += 1\n",
    "    else:\n",
    "        words[word] = 1\n"
   ]
  },
  {
   "cell_type": "code",
   "execution_count": 55,
   "id": "ba6cb28e-77bd-4836-84dc-cb9834fa6fed",
   "metadata": {
    "tags": []
   },
   "outputs": [],
   "source": [
    "def find_word_count(words, search_w):\n",
    "    if search_w in words.keys():\n",
    "        out = words[search_w]\n",
    "    else:\n",
    "        out = f\"The book does not contain the word {search_w}\"\n",
    "    return out\n",
    "\n"
   ]
  },
  {
   "cell_type": "code",
   "execution_count": 58,
   "id": "615c7ddb-ecd0-482e-be02-bf69baf59eb1",
   "metadata": {
    "tags": []
   },
   "outputs": [],
   "source": [
    "def find(words, search_w):\n",
    "    try:\n",
    "        return words[search_w]\n",
    "    except:\n",
    "        return f\"The book does not contain the word {search_w}\""
   ]
  },
  {
   "cell_type": "markdown",
   "id": "13cace19-0f9f-4953-ae07-c53b920fb348",
   "metadata": {},
   "source": [
    "# call the function"
   ]
  },
  {
   "cell_type": "code",
   "execution_count": 56,
   "id": "cc738c98-28d4-4974-a3db-96394deb4394",
   "metadata": {
    "tags": []
   },
   "outputs": [
    {
     "name": "stdout",
     "output_type": "stream",
     "text": [
      "83\n"
     ]
    }
   ],
   "source": [
    "print(find_word_count(words, \"love\"))"
   ]
  },
  {
   "cell_type": "code",
   "execution_count": 60,
   "id": "28e09923-ab94-46cc-8d58-30b9875c438e",
   "metadata": {
    "tags": []
   },
   "outputs": [
    {
     "name": "stdout",
     "output_type": "stream",
     "text": [
      "83\n"
     ]
    }
   ],
   "source": [
    "print(find(words, \"love\"))"
   ]
  },
  {
   "cell_type": "code",
   "execution_count": null,
   "id": "d8ab9ca0-5536-4d84-9893-11500fa83335",
   "metadata": {},
   "outputs": [],
   "source": []
  }
 ],
 "metadata": {
  "kernelspec": {
   "display_name": "Python 3 (ipykernel)",
   "language": "python",
   "name": "python3"
  },
  "language_info": {
   "codemirror_mode": {
    "name": "ipython",
    "version": 3
   },
   "file_extension": ".py",
   "mimetype": "text/x-python",
   "name": "python",
   "nbconvert_exporter": "python",
   "pygments_lexer": "ipython3",
   "version": "3.11.3"
  }
 },
 "nbformat": 4,
 "nbformat_minor": 5
}
