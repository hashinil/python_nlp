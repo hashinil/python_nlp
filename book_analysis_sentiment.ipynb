{
 "cells": [
  {
   "cell_type": "markdown",
   "id": "bbd76ad5-716f-467b-92a3-deb633e455b9",
   "metadata": {},
   "source": [
    "# Load the book"
   ]
  },
  {
   "cell_type": "code",
   "execution_count": 1,
   "id": "f7aaf2c9-b75e-4c26-8af0-07616dd63dcc",
   "metadata": {
    "tags": []
   },
   "outputs": [],
   "source": [
    "with open(\"miracle_in_the_andes.txt\", \"r\", encoding=\"utf8\") as file:\n",
    "    book = file.read()"
   ]
  },
  {
   "cell_type": "markdown",
   "id": "724c8bdb-edf7-426d-b79f-65e989b8da4c",
   "metadata": {},
   "source": [
    "# Most used words (Non articles)"
   ]
  },
  {
   "cell_type": "code",
   "execution_count": 5,
   "id": "803287f0-6d53-4ddb-94ae-8bb77253b4f1",
   "metadata": {
    "tags": []
   },
   "outputs": [
    {
     "data": {
      "text/plain": [
       "['chapter', 'before', 'it', 'was', 'friday']"
      ]
     },
     "execution_count": 5,
     "metadata": {},
     "output_type": "execute_result"
    }
   ],
   "source": [
    "import re\n",
    "pattern = re.compile(\"[a-zA-Z]+\")\n",
    "findings = re.findall(pattern, book.lower())\n",
    "findings[0:5]"
   ]
  },
  {
   "cell_type": "code",
   "execution_count": 6,
   "id": "ad2cc43f-13b3-4a89-9528-1cd2807364b5",
   "metadata": {
    "tags": []
   },
   "outputs": [],
   "source": [
    "word_d = {}\n",
    "for word in findings:\n",
    "    if word in word_d.keys():\n",
    "        word_d[word] = word_d[word] + 1\n",
    "    else:\n",
    "        word_d[word] = 1"
   ]
  },
  {
   "cell_type": "code",
   "execution_count": 9,
   "id": "e1ed9932-562d-4267-9f5a-3ffc6ee55254",
   "metadata": {
    "tags": []
   },
   "outputs": [
    {
     "name": "stdout",
     "output_type": "stream",
     "text": [
      "[(5346, 'the'), (2795, 'and'), (2729, 'i'), (2400, 'to'), (2060, 'of')]\n"
     ]
    }
   ],
   "source": [
    "d_list = [(value, key) for key, value in word_d.items()]\n",
    "d_list =sorted(d_list, reverse=True)\n",
    "print(d_list[:5])"
   ]
  },
  {
   "cell_type": "code",
   "execution_count": 11,
   "id": "543a32cf-c6c8-4c16-93d6-eccadbc105b7",
   "metadata": {
    "tags": []
   },
   "outputs": [
    {
     "data": {
      "text/plain": [
       "'3.11.3'"
      ]
     },
     "execution_count": 11,
     "metadata": {},
     "output_type": "execute_result"
    }
   ],
   "source": [
    "from platform import python_version\n",
    "python_version()"
   ]
  },
  {
   "cell_type": "code",
   "execution_count": 16,
   "id": "33b4b4ac-962f-4bfa-9a02-baf94f674552",
   "metadata": {
    "tags": []
   },
   "outputs": [
    {
     "name": "stdout",
     "output_type": "stream",
     "text": [
      "Requirement already satisfied: nltk in c:\\users\\user\\anaconda3\\lib\\site-packages (3.7)\n",
      "Requirement already satisfied: click in c:\\users\\user\\anaconda3\\lib\\site-packages (from nltk) (8.0.4)\n",
      "Requirement already satisfied: joblib in c:\\users\\user\\anaconda3\\lib\\site-packages (from nltk) (1.2.0)\n",
      "Requirement already satisfied: regex>=2021.8.3 in c:\\users\\user\\anaconda3\\lib\\site-packages (from nltk) (2022.7.9)\n",
      "Requirement already satisfied: tqdm in c:\\users\\user\\anaconda3\\lib\\site-packages (from nltk) (4.65.0)\n",
      "Requirement already satisfied: colorama in c:\\users\\user\\anaconda3\\lib\\site-packages (from click->nltk) (0.4.6)\n"
     ]
    }
   ],
   "source": [
    "!pip install nltk"
   ]
  },
  {
   "cell_type": "code",
   "execution_count": 18,
   "id": "4c767f5d-6d57-4529-9413-8bbe50da33ea",
   "metadata": {
    "tags": []
   },
   "outputs": [
    {
     "name": "stderr",
     "output_type": "stream",
     "text": [
      "[nltk_data] Downloading package stopwords to\n",
      "[nltk_data]     C:\\Users\\User\\AppData\\Roaming\\nltk_data...\n",
      "[nltk_data]   Unzipping corpora\\stopwords.zip.\n"
     ]
    },
    {
     "data": {
      "text/plain": [
       "True"
      ]
     },
     "execution_count": 18,
     "metadata": {},
     "output_type": "execute_result"
    }
   ],
   "source": [
    "import nltk\n",
    "nltk.download('stopwords')"
   ]
  },
  {
   "cell_type": "code",
   "execution_count": 19,
   "id": "20b4d754-03c1-4192-9121-92e7be2bfd50",
   "metadata": {
    "tags": []
   },
   "outputs": [],
   "source": [
    "from nltk.corpus import stopwords\n",
    "\n",
    "english_stop_words = stopwords.words(\"english\")"
   ]
  },
  {
   "cell_type": "code",
   "execution_count": 20,
   "id": "77fd48b0-209c-4959-a5ed-82c82845d900",
   "metadata": {
    "tags": []
   },
   "outputs": [
    {
     "data": {
      "text/plain": [
       "['i', 'me', 'my', 'myself', 'we']"
      ]
     },
     "execution_count": 20,
     "metadata": {},
     "output_type": "execute_result"
    }
   ],
   "source": [
    "english_stop_words[:5]"
   ]
  },
  {
   "cell_type": "code",
   "execution_count": 21,
   "id": "8fa484a4-ec31-4a07-98d7-5bea4fa7a174",
   "metadata": {
    "tags": []
   },
   "outputs": [],
   "source": [
    "filtered_words = []\n",
    "for count, word in d_list:\n",
    "    if word not in english_stop_words:\n",
    "        filtered_words.append((word, count))"
   ]
  },
  {
   "cell_type": "code",
   "execution_count": 23,
   "id": "e33a8801-e0ca-4a52-91f8-87f5966837af",
   "metadata": {
    "tags": []
   },
   "outputs": [
    {
     "data": {
      "text/plain": [
       "[('would', 575), ('us', 519), ('said', 292), ('roberto', 284), ('could', 252)]"
      ]
     },
     "execution_count": 23,
     "metadata": {},
     "output_type": "execute_result"
    }
   ],
   "source": [
    "filtered_words[:5]"
   ]
  },
  {
   "cell_type": "markdown",
   "id": "6e9ba08a-5060-42e8-9393-6a8244c01190",
   "metadata": {},
   "source": [
    "# Sentiment Analysis: What is the most positive and most negative chapter?"
   ]
  },
  {
   "cell_type": "markdown",
   "id": "6544c4f2-7f56-4398-af0a-15eab882f3dd",
   "metadata": {},
   "source": [
    "### Example"
   ]
  },
  {
   "cell_type": "code",
   "execution_count": 27,
   "id": "0a2a8ec3-3ea5-4ec6-a57d-956f8711d1f6",
   "metadata": {
    "tags": []
   },
   "outputs": [],
   "source": [
    "from nltk.sentiment import SentimentIntensityAnalyzer"
   ]
  },
  {
   "cell_type": "code",
   "execution_count": 29,
   "id": "c553f1f5-d56c-43bd-9a5d-df375edd3aff",
   "metadata": {
    "tags": []
   },
   "outputs": [
    {
     "name": "stderr",
     "output_type": "stream",
     "text": [
      "[nltk_data] Downloading package vader_lexicon to\n",
      "[nltk_data]     C:\\Users\\User\\AppData\\Roaming\\nltk_data...\n"
     ]
    },
    {
     "data": {
      "text/plain": [
       "True"
      ]
     },
     "execution_count": 29,
     "metadata": {},
     "output_type": "execute_result"
    }
   ],
   "source": [
    "nltk.download('vader_lexicon')"
   ]
  },
  {
   "cell_type": "code",
   "execution_count": 30,
   "id": "781a44f6-c33b-488e-b9c1-7d1c4ae672d2",
   "metadata": {
    "tags": []
   },
   "outputs": [],
   "source": [
    "analyzer = SentimentIntensityAnalyzer()"
   ]
  },
  {
   "cell_type": "code",
   "execution_count": 32,
   "id": "95c6b336-1455-4ce0-8b1d-01e8eb4225b9",
   "metadata": {
    "tags": []
   },
   "outputs": [
    {
     "name": "stdout",
     "output_type": "stream",
     "text": [
      "{'neg': 0.0, 'neu': 0.204, 'pos': 0.796, 'compound': 0.5994}\n"
     ]
    }
   ],
   "source": [
    "score = analyzer.polarity_scores(\"I am beautiful\")\n",
    "print(score)"
   ]
  },
  {
   "cell_type": "code",
   "execution_count": 34,
   "id": "7c54ab08-8fa7-445b-ba92-f2cc42cf25ab",
   "metadata": {
    "tags": []
   },
   "outputs": [
    {
     "name": "stdout",
     "output_type": "stream",
     "text": [
      "It is Positive text\n"
     ]
    }
   ],
   "source": [
    "if  score['pos'] > score['neg']:\n",
    "    print(\"It is Positive text\")\n",
    "else:\n",
    "    print(\"It is Negative text\")"
   ]
  },
  {
   "cell_type": "code",
   "execution_count": 36,
   "id": "8c7b1661-395f-42b0-9753-519fbc92ee19",
   "metadata": {
    "tags": []
   },
   "outputs": [
    {
     "name": "stdout",
     "output_type": "stream",
     "text": [
      "{'neg': 0.116, 'neu': 0.76, 'pos': 0.125, 'compound': 1.0}\n"
     ]
    }
   ],
   "source": [
    "print(analyzer.polarity_scores(book))"
   ]
  },
  {
   "cell_type": "markdown",
   "id": "b48b4fbb-2a14-406e-8a8f-07abd1c9c2c6",
   "metadata": {},
   "source": [
    "### Chapter wise sentiment analisis"
   ]
  },
  {
   "cell_type": "code",
   "execution_count": 37,
   "id": "7328d9d3-35c2-463a-b682-40370156f3fe",
   "metadata": {
    "tags": []
   },
   "outputs": [],
   "source": [
    "import re\n",
    "pattern = re.compile(\"Chapter [0-9]+\")\n",
    "chapters = re.split(pattern, book)"
   ]
  },
  {
   "cell_type": "code",
   "execution_count": 40,
   "id": "e326af01-6f51-4577-9afc-8b51a6022a14",
   "metadata": {
    "tags": []
   },
   "outputs": [],
   "source": [
    "#chapters[1:]"
   ]
  },
  {
   "cell_type": "code",
   "execution_count": 46,
   "id": "7e965135-ae9e-4fdf-9e11-52e95fb9d393",
   "metadata": {
    "tags": []
   },
   "outputs": [
    {
     "name": "stdout",
     "output_type": "stream",
     "text": [
      "1 {'neg': 0.0, 'neu': 0.0, 'pos': 0.0, 'compound': 0.0}\n",
      "2 {'neg': 0.061, 'neu': 0.779, 'pos': 0.16, 'compound': 1.0}\n",
      "3 {'neg': 0.12, 'neu': 0.726, 'pos': 0.154, 'compound': 0.9991}\n",
      "4 {'neg': 0.145, 'neu': 0.751, 'pos': 0.105, 'compound': -0.9999}\n",
      "5 {'neg': 0.141, 'neu': 0.721, 'pos': 0.138, 'compound': -0.9963}\n",
      "6 {'neg': 0.118, 'neu': 0.742, 'pos': 0.141, 'compound': 0.9997}\n",
      "7 {'neg': 0.124, 'neu': 0.761, 'pos': 0.115, 'compound': -0.9979}\n",
      "8 {'neg': 0.136, 'neu': 0.761, 'pos': 0.103, 'compound': -0.9999}\n",
      "9 {'neg': 0.12, 'neu': 0.786, 'pos': 0.094, 'compound': -0.9998}\n",
      "10 {'neg': 0.097, 'neu': 0.824, 'pos': 0.079, 'compound': -0.9996}\n",
      "11 {'neg': 0.086, 'neu': 0.733, 'pos': 0.181, 'compound': 1.0}\n"
     ]
    }
   ],
   "source": [
    "for index, chapter in enumerate(chapters):\n",
    "    score = analyzer.polarity_scores(chapter)\n",
    "    print(index+1, score)"
   ]
  },
  {
   "cell_type": "code",
   "execution_count": null,
   "id": "3462dcbd-e664-412a-bca5-a52aec62d859",
   "metadata": {},
   "outputs": [],
   "source": []
  }
 ],
 "metadata": {
  "kernelspec": {
   "display_name": "Python 3 (ipykernel)",
   "language": "python",
   "name": "python3"
  },
  "language_info": {
   "codemirror_mode": {
    "name": "ipython",
    "version": 3
   },
   "file_extension": ".py",
   "mimetype": "text/x-python",
   "name": "python",
   "nbconvert_exporter": "python",
   "pygments_lexer": "ipython3",
   "version": "3.11.3"
  }
 },
 "nbformat": 4,
 "nbformat_minor": 5
}
